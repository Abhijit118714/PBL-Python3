{
 "cells": [
  {
   "cell_type": "code",
   "execution_count": 1,
   "metadata": {},
   "outputs": [
    {
     "name": "stdout",
     "output_type": "stream",
     "text": [
      "men or womenmen\n",
      "Enter your age: 21\n",
      "Elegible\n"
     ]
    }
   ],
   "source": [
    "a=input(\"men or women\")\n",
    "if(a==\"women\"):\n",
    "    n=int(input(\"Enter your age: \"))\n",
    "    if(n>=18):\n",
    "        print(\"Elegible\")\n",
    "    else:\n",
    "        print(\"Sorry\")\n",
    "elif(a==\"men\"):\n",
    "    n=int(input(\"Enter your age: \"))\n",
    "    if(n>=21):\n",
    "        print(\"Elegible\")\n",
    "    else:\n",
    "        print(\"Sorry\")\n",
    "        "
   ]
  },
  {
   "cell_type": "code",
   "execution_count": 2,
   "metadata": {},
   "outputs": [
    {
     "name": "stdout",
     "output_type": "stream",
     "text": [
      "2016\n",
      "is a leap year\n"
     ]
    }
   ],
   "source": [
    "year=int(input())\n",
    "print(((\"is a leap year\" if(year % 400) == 0 else \"is not a leap year\") \n",
    "       if(year % 100) == 0 else \"is a leap year\") \n",
    "      if(year % 4) == 0 else \"is not a leap year\")"
   ]
  },
  {
   "cell_type": "code",
   "execution_count": 7,
   "metadata": {},
   "outputs": [
    {
     "name": "stdout",
     "output_type": "stream",
     "text": [
      "2\n",
      "3\n",
      "2\n",
      "0\n"
     ]
    }
   ],
   "source": [
    "a,b,c,su=int(input()),int(input()),int(input()),0\n",
    "print(su) if(a==b or a==c or c==b) else print(a+b+c)"
   ]
  },
  {
   "cell_type": "code",
   "execution_count": 13,
   "metadata": {},
   "outputs": [
    {
     "name": "stdout",
     "output_type": "stream",
     "text": [
      "Enter Two Numbers: 2 3\n",
      "1 6\n"
     ]
    }
   ],
   "source": [
    "import math\n",
    "a,b=map(int,input(\"Enter Two Numbers: \").split())\n",
    "print((math.gcd(a,b)),((a*b)//math.gcd(a,b)))"
   ]
  },
  {
   "cell_type": "code",
   "execution_count": 18,
   "metadata": {},
   "outputs": [
    {
     "name": "stdout",
     "output_type": "stream",
     "text": [
      "45\n",
      "Positive\n"
     ]
    }
   ],
   "source": [
    "a=int(input())\n",
    "print(\"Positive\" if(a>0) else \"Negative\" if(a<0) else \"zero\")"
   ]
  },
  {
   "cell_type": "code",
   "execution_count": 28,
   "metadata": {},
   "outputs": [
    {
     "name": "stdout",
     "output_type": "stream",
     "text": [
      "0 1 1 2 3 5 8 13 21 34 55 "
     ]
    }
   ],
   "source": [
    "def fib(n):\n",
    "    if(n<=1):\n",
    "        return n\n",
    "    else:\n",
    "        return fib(n-1)+fib(n-2)\n",
    "for i in range(11):\n",
    "    print(fib(i),end=' ')"
   ]
  },
  {
   "cell_type": "code",
   "execution_count": 31,
   "metadata": {},
   "outputs": [
    {
     "name": "stdout",
     "output_type": "stream",
     "text": [
      "29 31 37 41 43 47 53 59 61 67 71 73 "
     ]
    }
   ],
   "source": [
    "def prime(num):\n",
    "    if num > 1:\n",
    "        for i in range(2, num):\n",
    "            if (num % i) == 0:\n",
    "                return False\n",
    "    return True\n",
    "for i in range(25,76):\n",
    "    if(prime(i)):\n",
    "        print(i,end=\" \")"
   ]
  },
  {
   "cell_type": "code",
   "execution_count": 38,
   "metadata": {},
   "outputs": [
    {
     "name": "stdout",
     "output_type": "stream",
     "text": [
      "Enter The Number: 12\n",
      "12 x 1 = 12\n",
      "12 x 2 = 24\n",
      "12 x 3 = 36\n",
      "12 x 4 = 48\n",
      "12 x 5 = 60\n",
      "12 x 6 = 72\n",
      "12 x 7 = 84\n",
      "12 x 8 = 96\n",
      "12 x 9 = 108\n",
      "12 x 10 = 120\n"
     ]
    }
   ],
   "source": [
    "n=int(input(\"Enter The Number: \"))\n",
    "for i in range(1,11):\n",
    "    print(f\"{n} x {i} = {n*i}\")"
   ]
  },
  {
   "cell_type": "code",
   "execution_count": 43,
   "metadata": {},
   "outputs": [
    {
     "name": "stdout",
     "output_type": "stream",
     "text": [
      "Sum all Positive:  216\n",
      "Sum all Negative:  -24\n",
      "Biggest:  50\n",
      "Smallest:  -9\n",
      "Sum of All:  192\n"
     ]
    }
   ],
   "source": [
    "arr=[12,13,-5,-6,45,-9,47,-1,-3,49,50]\n",
    "print(\"Sum all Positive: \",sum([i for i in arr if i>=0]))\n",
    "print(\"Sum all Negative: \",sum([i for i in arr if i<0]))\n",
    "print(\"Biggest: \",max(arr))\n",
    "print(\"Smallest: \",min(arr))\n",
    "print(\"Sum of All: \",sum(arr))"
   ]
  },
  {
   "cell_type": "code",
   "execution_count": 44,
   "metadata": {},
   "outputs": [
    {
     "name": "stdout",
     "output_type": "stream",
     "text": [
      "1234\n",
      "reverse number is: 4321\n"
     ]
    }
   ],
   "source": [
    "print(f\"reverse number is: {input()[::-1]}\")"
   ]
  }
 ],
 "metadata": {
  "kernelspec": {
   "display_name": "Python 3",
   "language": "python",
   "name": "python3"
  },
  "language_info": {
   "codemirror_mode": {
    "name": "ipython",
    "version": 3
   },
   "file_extension": ".py",
   "mimetype": "text/x-python",
   "name": "python",
   "nbconvert_exporter": "python",
   "pygments_lexer": "ipython3",
   "version": "3.8.5"
  }
 },
 "nbformat": 4,
 "nbformat_minor": 4
}
