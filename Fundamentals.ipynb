{
 "cells": [
  {
   "cell_type": "code",
   "execution_count": 2,
   "metadata": {},
   "outputs": [
    {
     "name": "stdout",
     "output_type": "stream",
     "text": [
      "Hello Worldd\n"
     ]
    }
   ],
   "source": [
    "print(\"Hello Worldd\")"
   ]
  },
  {
   "cell_type": "code",
   "execution_count": 4,
   "metadata": {},
   "outputs": [
    {
     "name": "stdout",
     "output_type": "stream",
     "text": [
      "500.0\n"
     ]
    }
   ],
   "source": [
    "base=20\n",
    "height=50\n",
    "print(0.5*base*height)"
   ]
  },
  {
   "cell_type": "code",
   "execution_count": 27,
   "metadata": {},
   "outputs": [
    {
     "name": "stdout",
     "output_type": "stream",
     "text": [
      " Data Type | Value\n",
      " Integer   |  5 \n",
      " String    | Wipro \n",
      " Boolean   | True \n",
      " Float     | 5.5\n"
     ]
    }
   ],
   "source": [
    "print(f\" Data Type | Value\\n Integer   |  {5} \\n String    | Wipro \\n Boolean   | {True} \\n Float     | {5.5}\")"
   ]
  },
  {
   "cell_type": "code",
   "execution_count": 35,
   "metadata": {},
   "outputs": [
    {
     "name": "stdout",
     "output_type": "stream",
     "text": [
      " Summation (1+2) ->      3\n",
      " Multiplication (2*2) -> 4\n",
      " Deviation (2/2) ->     1.0\n",
      " Subtraction (6-3) ->    3\n"
     ]
    }
   ],
   "source": [
    "print(f\" Summation (1+2) ->      {3}\\n Multiplication (2*2) -> {4}\\n Deviation (2/2) ->     {2/2}\\n Subtraction (6-3) ->    {3}\")"
   ]
  },
  {
   "cell_type": "code",
   "execution_count": 37,
   "metadata": {},
   "outputs": [
    {
     "name": "stdout",
     "output_type": "stream",
     "text": [
      " a -> 20 \n",
      " b -> 10\n"
     ]
    }
   ],
   "source": [
    "a=10\n",
    "b=20\n",
    "a,b=b,a\n",
    "print(f\" a -> {a} \\n b -> {b}\")"
   ]
  },
  {
   "cell_type": "code",
   "execution_count": 40,
   "metadata": {},
   "outputs": [
    {
     "name": "stdout",
     "output_type": "stream",
     "text": [
      "30\n",
      "Yes\n"
     ]
    }
   ],
   "source": [
    "print(\"Yes\" if int(input())%5==0 else \"No\")"
   ]
  },
  {
   "cell_type": "code",
   "execution_count": 45,
   "metadata": {},
   "outputs": [
    {
     "name": "stdout",
     "output_type": "stream",
     "text": [
      "4\n",
      "Sqt Root ->  2.0\n"
     ]
    }
   ],
   "source": [
    "print(\"Sqt Root -> \",int(input())**0.5)"
   ]
  },
  {
   "cell_type": "code",
   "execution_count": 49,
   "metadata": {},
   "outputs": [
    {
     "name": "stdout",
     "output_type": "stream",
     "text": [
      "36\n",
      "fahrenheit ->  96.8\n"
     ]
    }
   ],
   "source": [
    "print(\"fahrenheit -> \", (int(input()) * 1.8) + 32)  "
   ]
  },
  {
   "cell_type": "code",
   "execution_count": 57,
   "metadata": {},
   "outputs": [
    {
     "name": "stdout",
     "output_type": "stream",
     "text": [
      "1  January\n",
      "2  February\n",
      "3  March\n",
      "4  April\n",
      "5  May\n",
      "6  June\n",
      "7  July\n",
      "8  August\n",
      "9  September\n",
      "10  October\n",
      "11  November\n",
      "12  December\n"
     ]
    }
   ],
   "source": [
    "a=['January', 'February', 'March', 'April', 'May', 'June', 'July','August', 'September', 'October', 'November', 'December']\n",
    "for i in range(len(a)):\n",
    "    print(f\"{i+1}  {a[i]}\")"
   ]
  },
  {
   "cell_type": "code",
   "execution_count": 61,
   "metadata": {},
   "outputs": [
    {
     "name": "stdout",
     "output_type": "stream",
     "text": [
      "Number of person in List ->  5\n"
     ]
    }
   ],
   "source": [
    "a= [\"Abhijti\",\"Jony\",\"Sam\",\"Riya\",\"MR.\"]\n",
    "print(\"Number of person in List -> \",len(a))"
   ]
  },
  {
   "cell_type": "code",
   "execution_count": 66,
   "metadata": {},
   "outputs": [
    {
     "name": "stdout",
     "output_type": "stream",
     "text": [
      " 1 -> 2\n",
      " 2 -> 2\n",
      " 3 -> 2\n",
      " 4 -> 4\n",
      " 5 -> 3\n",
      " 6 -> 3\n",
      " 7 -> 2\n",
      " 8 -> 2\n",
      " 9 -> 2\n"
     ]
    }
   ],
   "source": [
    "a=[4,5,6,7,8,9,4,2,3,1,4,3,2,5,6,7,8,9,1,4,5,6]\n",
    "for i in set(a):\n",
    "    print(f\" {i} -> {a.count(i)}\")"
   ]
  },
  {
   "cell_type": "code",
   "execution_count": 68,
   "metadata": {},
   "outputs": [
    {
     "name": "stdout",
     "output_type": "stream",
     "text": [
      "['September', 'October', 'November', 'May', 'March', 'June', 'July', 'January', 'February', 'December', 'August', 'April']\n"
     ]
    }
   ],
   "source": [
    "a=['January', 'February', 'March', 'April', 'May', 'June', 'July','August', 'September', 'October', 'November', 'December']\n",
    "a.sort(reverse=True)\n",
    "print(a)"
   ]
  },
  {
   "cell_type": "code",
   "execution_count": 76,
   "metadata": {},
   "outputs": [
    {
     "name": "stdout",
     "output_type": "stream",
     "text": [
      "['January', 'February', 'March', 'May', 'June', 'July', 'August', 'September', 'October', 'December']\n"
     ]
    }
   ],
   "source": [
    "a=['January', 'February', 'March', 'April', 'May', 'June', 'July','August', 'September', 'October', 'November', 'December']\n",
    "a.remove(\"November\") \n",
    "a.pop(a.index(\"April\"))\n",
    "print(a)"
   ]
  },
  {
   "cell_type": "code",
   "execution_count": 78,
   "metadata": {},
   "outputs": [
    {
     "name": "stdout",
     "output_type": "stream",
     "text": [
      "['January', 'February', 'March', 'April', 'May', 'June', 'July', 'August', 'September', 'October', 'November', 'December', 'Monday', 'Tuesday', 'Wednesday', 'Thursday', 'Friday', 'Saturday', 'Sunday']\n"
     ]
    }
   ],
   "source": [
    "a=['January', 'February', 'March', 'April', 'May', 'June', 'July','August', 'September', 'October', 'November', 'December']\n",
    "b=['Monday', 'Tuesday', 'Wednesday', 'Thursday', 'Friday', 'Saturday',\n",
    "            'Sunday']\n",
    "print(a+b)"
   ]
  },
  {
   "cell_type": "code",
   "execution_count": 84,
   "metadata": {},
   "outputs": [
    {
     "name": "stdout",
     "output_type": "stream",
     "text": [
      "Which Year: 2020\n",
      "January-> 31\n",
      "February-> 29\n",
      "March-> 31\n",
      "April-> 30\n",
      "May-> 31\n",
      "June-> 30\n",
      "July-> 31\n",
      "August-> 31\n",
      "September-> 30\n",
      "October-> 31\n",
      "November-> 30\n",
      "December-> 31\n"
     ]
    }
   ],
   "source": [
    "from calendar import monthrange\n",
    "a=['January', 'February', 'March', 'April', 'May', 'June', 'July','August', 'September', 'October', 'November', 'December']\n",
    "f=int(input(\"Which Year: \"))\n",
    "for i in range(1,13):\n",
    "    print(f\"{a[i-1]}-> {monthrange(f, i)[-1]}\")"
   ]
  }
 ],
 "metadata": {
  "kernelspec": {
   "display_name": "Python 3",
   "language": "python",
   "name": "python3"
  },
  "language_info": {
   "codemirror_mode": {
    "name": "ipython",
    "version": 3
   },
   "file_extension": ".py",
   "mimetype": "text/x-python",
   "name": "python",
   "nbconvert_exporter": "python",
   "pygments_lexer": "ipython3",
   "version": "3.8.5"
  }
 },
 "nbformat": 4,
 "nbformat_minor": 4
}
